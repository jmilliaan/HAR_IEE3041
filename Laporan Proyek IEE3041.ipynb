{
 "cells":[
  {
   "cell_type":"markdown",
   "source":[
    "# Laporan Proyek IEE3041: Ilmu Data 1\n",
    "# \"Klasifikasi Gerakan Berdasarkan Data Sensor\"\n",
    "## Anggota Kelompok:\n",
    "- Hizkia Timothy Theodore Lesmana\/191900733\n",
    "- Joy Milliaan\/191900104\n",
    "- Victoriano Aribaldi\/191900236"
   ],
   "attachments":{
    
   },
   "metadata":{
    "datalore":{
     "node_id":"zl5JmwqPB1h9toZTSxRdWW",
     "type":"MD",
     "hide_input_from_viewers":false,
     "hide_output_from_viewers":false
    }
   }
  },
  {
   "cell_type":"markdown",
   "source":[
    "<h2>Tujuan Proyek<\/h2>\n",
    "Dalam proyek ini, kelompok kami memperoleh data berupa nilai-nilai bacaan sensor yang ada pada sebuah ponsel pintar. Data ini berbentuk time series. Dengan menggunakan algoritma supervised learning, kami akan membuat model untuk mengklasifikasi pola time series sebuah sensor terhadap label berdiri, duduk, berjalan, berlari, naik tangga, dan turun tangga. <br><br>\n",
    "Manfaat dari klasifikasi seperti yang kami kerjakan bisa ditemukan di bidang kesehatan, di mana pola gerak seseorang dapat menentukan penyakit seperti stroke, parkinsons, dan lain-lain."
   ],
   "attachments":{
    
   },
   "metadata":{
    "datalore":{
     "node_id":"yz2BsS3P8uKh7VPT2fAv40",
     "type":"MD",
     "hide_input_from_viewers":false,
     "hide_output_from_viewers":false
    }
   }
  },
  {
   "cell_type":"markdown",
   "source":[
    "## Pencarian Data\n",
    "Pada proyek ini, kami menggunakan dataset <b>MotionSense Dataset: Smartphone Sensor Data.<\/b> Dataset ini mengandung data time series yang diperoleh dari sensor accelerometer dan gyroscope handphone. Data dari sensor ini diperoleh ketika smartphone sedang ada pada orang yang sedang:<br>\n",
    "- Berdiri<br>\n",
    "- Duduk <br>\n",
    "- Berjalan <br>\n",
    "- Berlari kecil <br>\n",
    "- Berjalan naik tangga<br>\n",
    "- Berjalan turun tangga<br>\n",
    "Sampel data diambil dari 24 orang yang berbeda-beda jenis kelamin, umur, berat bada, dan tinggi badan. <br>\n",
    "\n",
    "<h3>Proses Akuisisi Data<\/h3>\n",
    "1. Setiap orang diberikan satu smartphone iPhone 6 dan diperintahkan untuk melakukan 6 gerakan.<br> \n",
    "2. Gerakan dilakukan di lokasi Queen Mary University of London, Mile End Campus.<br>\n",
    "3. Terdapat dua kali pengambilan data, pertama berdurasi panjang (120-180 detik) dan kedua singkat (30 detik). <br>\n",
    "4. Sampling dilakukan dengan frekuensi 50Hz.<br>\n",
    "5. Akuisisi dilakukan menggunakan aplikasi CrowdSense dan <i>framework<\/i> CMDeviceMotion dari Apple.<br>\n",
    "6. Diketahui bahwa data sudah terstandardisasi dari aplikasi CrowdSense.<br>\n",
    "\n",
    "<h3>Fitur Data<\/h3>\n",
    "1. Attitude (satu fitur untuk tiap sumbu x, y, z)<br>\n",
    "2. Gravity (satu fitur untuk tiap sumbu x, y, z)<br>\n",
    "3. rotationRate (satu fitur untuk tiap sumbu x, y, z)<br>\n",
    "4. userAcceleration (satu fitur untuk tiap sumbu x, y, z)<br>\n",
    "Maka itu, terdapat 12 fitur data time series.\n",
    "\n",
    "<h3>Sumber Data<\/h3>\n",
    "- https:\/\/github.com\/mmalekzadeh\/motion-sense<br>\n",
    "- https:\/\/www.kaggle.com\/malekzadeh\/motionsense-dataset?select=data_subjects_info.csv<br>"
   ],
   "attachments":{
    
   },
   "metadata":{
    "datalore":{
     "node_id":"ljf9kXH3w0fg6wlHUI36SV",
     "type":"MD",
     "hide_input_from_viewers":false,
     "hide_output_from_viewers":false
    }
   }
  },
  {
   "cell_type":"markdown",
   "source":[
    "<h2>Exploratory Data Analysis<\/h2>\n",
    "<h3>Visualisasi Data Time Series Subjek 1<\/h3>\n",
    "Berdasarkan visualisasi data, bisa dilihat bahwa data bisa dibagi menjadi tiga kelompok label yaitu standing dan sitting, walking dan jogging, serta upstairs dan downstairs. Pembagian kategori ini dilakukan dengan melihat pola kasar plot domain waktu tiap sensor.\n",
    "\n",
    "<p align=\"center\"><img src=\"standsit.jpg\" width=600><\/p>\n",
    "\n",
    "Pada plot standing dan sitting, perubahan pada nilai sensor sangat kecil. Tentu hal ini logis karena orang yang sedang berdiri ataupun duduk tidak akan melakukan banyak gerakan yang membuat fluktuasi besar pada bacaan sensor.\n",
    "\n",
    "<p align=\"center\"><img src=\"walkjog.jpg\" width=600><\/p>\n",
    "\n",
    "Kemudian pada plot walking dan jogging, terlihat pola gerakan naik-turun yang konsisten. Jika diperhatikan lebih lagi, gelombang yang ada pada plot jogging lebih \"padat\" dibandingkan plot walking. Hal ini logis karena pada kondisi jogging, terdapat lebih banyak gerakan-gerakan kecil.\n",
    "\n",
    "<p align=\"center\"><img src=\"upsdws.jpg\" width=600><\/p>\n",
    "\n",
    "Lalu pada plot upstairs dan downstairs pola terlihat cukup mirip juga, dengan jarak antar-gelombang yang cukup besar. Tetapi ada satu fitur yang menarik antara plot upstairs dan downstairs yaitu attitude.yaw. Bisa dilihat bahwa attitude yaw untuk upstairs adalah kebalikan dari attitude yaw downstairs. Tentu hal ini logis juga karena gerakan turun tangga mencerminkan gerakan naik tangga.<br>\n",
    "\n",
    "<h3>Visualisasi Data Domain Frekuensi Subjek 1<\/h3>\n",
    "\n",
    "Melalui visualisasi domain frekuensi, kami menemukan beberapa pola yang menunjukkan keterkaitan antara label. Hal ini paling mencolok pada pasangan walking dan jogging. Plot domain frekuensi diperoleh dengan menggunakan method fft (Fast Fourier Transform) dari numpy.\n",
    "\n",
    "<p align=\"center\"><img src=\"fstand.jpg\" width=500><\/p>\n",
    "<p align=\"center\"><img src=\"fsit.jpg\" width=500><\/p>\n",
    "<p align=\"center\"><img src=\"fwalk.jpg\" width=500><\/p>\n",
    "<p align=\"center\"><img src=\"fjog.jpg\" width=500><\/p>\n",
    "<p align=\"center\"><img src=\"fups.jpg\" width=500><\/p>\n",
    "<p align=\"center\"><img src=\"fdws.jpg\" width=500><\/p>\n",
    "Berdasarkan visualisasi plot dalam domain frekuensi, label standing dan sitting menunjukkan kemiripan di mana keduanya memiliki sinyal hanya pada frekuensi rendah. Lalu label upstairs dan downstairs memiliki spektrum yang lebih besar, tetapi tidak menunjukkan spike\/keunikan plot frekuensi. Hasil yang paling mencolok adalah plot f-domain dari walking dan jogging. Walking menunjukkan spike pada beberapa nilai frekuensi. Jogging juga menunjukkan spike yang lebih tersebar sepanjang spektrum. Kedua hal ini logis karena berjalan dan berlari kecil sama-sama melibatkan gerakan yang terulang dan konsisten. Lalu, berlari kecil menunjukkan spektrum frekuensi yang lebih besar karena lari kecil memiliki pengulangan gerakan yang lebih cepat dibandingkan berjalan."
   ],
   "attachments":{
    
   },
   "metadata":{
    "datalore":{
     "node_id":"FRiyomTvdEWbZIYKAd4MMa",
     "type":"MD",
     "hide_input_from_viewers":false,
     "hide_output_from_viewers":false
    }
   }
  },
  {
   "cell_type":"markdown",
   "source":[
    "## Data Preprocessing"
   ],
   "attachments":{
    
   },
   "metadata":{
    "datalore":{
     "node_id":"mjCN5RFEjcfsgkisovvh1u",
     "type":"MD",
     "hide_input_from_viewers":false,
     "hide_output_from_viewers":false
    }
   }
  },
  {
   "cell_type":"code",
   "source":[
    "import pandas as pd\n",
    "import numpy as np\n",
    "import matplotlib.pyplot as plt\n",
    "import seaborn as sns"
   ],
   "execution_count":2,
   "outputs":[
    
   ],
   "metadata":{
    "datalore":{
     "node_id":"ftBMKAJVCLkps9HuPtOHCT",
     "type":"CODE",
     "hide_input_from_viewers":false,
     "hide_output_from_viewers":false
    }
   }
  },
  {
   "cell_type":"code",
   "source":[
    "import warnings\n",
    "warnings.filterwarnings(\"ignore\")"
   ],
   "execution_count":3,
   "outputs":[
    
   ],
   "metadata":{
    "datalore":{
     "node_id":"K80vT9v60tvRQubIrAM2Q1",
     "type":"CODE",
     "hide_input_from_viewers":false,
     "hide_output_from_viewers":false
    }
   }
  },
  {
   "cell_type":"code",
   "source":[
    "raw_data_encoded = pd.read_csv(\"motiondata.csv\")\n",
    "raw_data = raw_data_encoded[[\"attitude.roll\", \"attitude.pitch\", \"attitude.yaw\", \n",
    "                             \"gravity.x\", \"gravity.y\", \"gravity.z\", \n",
    "                             \"rotationRate.x\", \"rotationRate.y\", \"rotationRate.z\", \n",
    "                             \"userAcceleration.x\", \"userAcceleration.y\", \"userAcceleration.z\"]]\n",
    "raw_result = raw_data_encoded[[\"std\", \"sit\", \"wlk\", \"jog\", \"ups\", \"dws\"]]"
   ],
   "execution_count":4,
   "outputs":[
    
   ],
   "metadata":{
    "datalore":{
     "node_id":"ugJHVzRTGZ9iTc06V1gvaP",
     "type":"CODE",
     "hide_input_from_viewers":false,
     "hide_output_from_viewers":false
    }
   }
  },
  {
   "cell_type":"code",
   "source":[
    "label_data = pd.read_csv(\"motiondata_rev.csv\")"
   ],
   "execution_count":5,
   "outputs":[
    
   ],
   "metadata":{
    "datalore":{
     "node_id":"5StDSfd1bYgBfzXmdtRSAd",
     "type":"CODE",
     "hide_input_from_viewers":false,
     "hide_output_from_viewers":false
    }
   }
  },
  {
   "cell_type":"code",
   "source":[
    "# Feature Importance\n",
    "X = label_data.iloc[:, 1:-7]  #independent columns\n",
    "y = label_data.iloc[:,-6:]    #target column\n",
    "from sklearn.ensemble import ExtraTreesClassifier\n",
    "import matplotlib.pyplot as plt\n",
    "model = ExtraTreesClassifier()\n",
    "model.fit(X,y)\n",
    "print(model.feature_importances_) #use inbuilt class feature_importances of tree based classifiers\n",
    "#plot graph of feature importances for better visualization\n",
    "feat_importances = pd.Series(model.feature_importances_, index=X.columns)\n",
    "feat_importances.nlargest(10).plot(kind='barh')\n",
    "plt.show()"
   ],
   "execution_count":32,
   "outputs":[
    {
     "name":"stdout",
     "text":[
      "[0.1265595  0.12245463 0.2422502  0.11492203 0.16133435 0.05298475\n",
      " 0.05058766 0.04046224 0.03299102 0.05545362]\n"
     ],
     "output_type":"stream"
    },
    {
     "data":{
      "image\/png":"[encoded data removed]"
     },
     "metadata":{
      "image\/png":{
       
      }
     },
     "output_type":"display_data"
    }
   ],
   "metadata":{
    "datalore":{
     "node_id":"T9pID9mISJTjEcNdTQXnOX",
     "type":"CODE",
     "hide_input_from_viewers":false,
     "hide_output_from_viewers":false
    }
   }
  },
  {
   "cell_type":"code",
   "source":[
    "from sklearn.model_selection import train_test_split\n",
    "X_train, X_test, y_train, y_test = train_test_split(X, y, test_size = 0.3, random_state = 101)"
   ],
   "execution_count":25,
   "outputs":[
    
   ],
   "metadata":{
    "datalore":{
     "node_id":"yGOAbu8PusaHxNOZZehbAj",
     "type":"CODE",
     "hide_input_from_viewers":false,
     "hide_output_from_viewers":false
    }
   }
  },
  {
   "cell_type":"markdown",
   "source":[
    "## Training & Model Tuning"
   ],
   "attachments":{
    
   },
   "metadata":{
    "datalore":{
     "node_id":"j3dzPcKoXzRpRreMJYVOrJ",
     "type":"MD",
     "hide_input_from_viewers":false,
     "hide_output_from_viewers":false
    }
   }
  },
  {
   "cell_type":"markdown",
   "source":[
    "### KNN"
   ],
   "attachments":{
    
   },
   "metadata":{
    "datalore":{
     "node_id":"dZQQe0Vyu4xfsTlpjoJMgw",
     "type":"MD",
     "hide_input_from_viewers":false,
     "hide_output_from_viewers":false
    }
   }
  },
  {
   "cell_type":"markdown",
   "source":[
    "Untuk mencari tipe model K Nearest Neighbours terbaik, kami menggunakan tiga metric: Manhattan, Euclidean, dan Minkowski, dengan parameter n konstan dengan besar 5. <br>\n",
    "Untuk melihat jika ada nilai n yang lebih baik daripada 5, akan dilakukan grid search dengan parameter n = [3, 4, ... , 10] dan p = [1, 1.1, 1.2, ... ,2]. <br>\n",
    "Hasil akan ditinjau dari perbandingan confusion matrix dengan test, serta accuracy score yang dihasilkan. Confusion matrix akan memiliki lima hasil, masing-masing merupakan perbandingan dari label hasil yang diinginkan. Urutannya dari paling atas: std, sit, wlk, jog, ups, dws."
   ],
   "attachments":{
    
   },
   "metadata":{
    "datalore":{
     "node_id":"Ax1KwZ1DAWoJ3iSYwGGi1d",
     "type":"MD",
     "hide_input_from_viewers":false,
     "hide_output_from_viewers":false
    }
   }
  },
  {
   "cell_type":"code",
   "source":[
    "from sklearn.neighbors import KNeighborsClassifier\n",
    "from sklearn.metrics import multilabel_confusion_matrix, accuracy_score"
   ],
   "execution_count":28,
   "outputs":[
    
   ],
   "metadata":{
    "datalore":{
     "node_id":"GZkWIocsky867ddvuQvO29",
     "type":"CODE",
     "hide_input_from_viewers":false,
     "hide_output_from_viewers":false
    }
   }
  },
  {
   "cell_type":"markdown",
   "source":[
    "__Manhattan__ <br>\n",
    "Setara dengan metode minkowski dengan p = 1"
   ],
   "attachments":{
    
   },
   "metadata":{
    "datalore":{
     "node_id":"OZxaMTw3WGnIFWmPXIY5Zb",
     "type":"MD",
     "hide_input_from_viewers":false,
     "hide_output_from_viewers":false
    }
   }
  },
  {
   "cell_type":"code",
   "source":[
    "# Pembuatan Model\n",
    "classifier_manhattan = KNeighborsClassifier(n_neighbors = 5, metric ='manhattan', p = 1) #'minkowski', 'manhattan'. Referensi: https:\/\/scikit-learn.org\/stable\/modules\/generated\/sklearn.neighbors.DistanceMetric.html#sklearn.neighbors.DistanceMetric\n",
    "classifier_manhattan.fit(X_train, y_train)\n",
    "\n",
    "# Prediksi\n",
    "y_pred_manhattan = classifier_manhattan.predict(X_test)\n",
    "\n",
    "# Confusion Matrix\n",
    "man_mlcm = multilabel_confusion_matrix(y_test, y_pred_manhattan)\n",
    "print(\"Confusion Matrix Metode Manhattan:\")\n",
    "print(man_mlcm)\n",
    "print()\n",
    "print(\"Accuracy Score Metode Manhattan:\")\n",
    "print(accuracy_score(y_test, y_pred_manhattan))\n",
    "print()"
   ],
   "execution_count":29,
   "outputs":[
    {
     "name":"stdout",
     "text":[
      "Confusion Matrix Metode Manhattan:\n",
      "[[[2972    1]\n",
      "  [   0  627]]\n",
      "\n",
      " [[3031    0]\n",
      "  [   0  569]]\n",
      "\n",
      " [[2948   40]\n",
      "  [  19  593]]\n",
      "\n",
      " [[3010    7]\n",
      "  [  23  560]]\n",
      "\n",
      " [[2936   19]\n",
      "  [  34  611]]\n",
      "\n",
      " [[3034    2]\n",
      "  [  13  551]]]\n",
      "\n",
      "Accuracy Score Metode Manhattan:\n",
      "0.9752777777777778\n",
      "\n"
     ],
     "output_type":"stream"
    }
   ],
   "metadata":{
    "datalore":{
     "node_id":"hpxfhJENAll4nvDhsq8X6A",
     "type":"CODE",
     "hide_input_from_viewers":false,
     "hide_output_from_viewers":false
    }
   }
  },
  {
   "cell_type":"markdown",
   "source":[
    "__Eucidean__<br>\n",
    "Setara dengan Manhattan dengan p = 2"
   ],
   "attachments":{
    
   },
   "metadata":{
    "datalore":{
     "node_id":"F7ibTeZPmK6Wdoq1HqQHdq",
     "type":"MD",
     "hide_input_from_viewers":false,
     "hide_output_from_viewers":false
    }
   }
  },
  {
   "cell_type":"code",
   "source":[
    "# Pembuatan model\n",
    "classifier_euc = KNeighborsClassifier(n_neighbors = 5, metric = 'euclidean', p = 2)\n",
    "classifier_euc.fit(X_train, y_train)\n",
    "\n",
    "# Prediksi\n",
    "y_pred_euc = classifier_euc.predict(X_test)\n",
    "\n",
    "# Confusion Matrix\n",
    "euc_mlcm = multilabel_confusion_matrix(y_test, y_pred_euc)\n",
    "print(\"Confusion Matrix Metode Euclidean:\")\n",
    "print(euc_mlcm)\n",
    "print()\n",
    "print(\"Accuracy Score Metode Euclidean:\")\n",
    "print(accuracy_score(y_test, y_pred_euc))\n",
    "print()"
   ],
   "execution_count":30,
   "outputs":[
    {
     "name":"stdout",
     "text":[
      "Confusion Matrix Metode Euclidean:\n",
      "[[[2972    1]\n",
      "  [   0  627]]\n",
      "\n",
      " [[3031    0]\n",
      "  [   0  569]]\n",
      "\n",
      " [[2941   47]\n",
      "  [  35  577]]\n",
      "\n",
      " [[3008    9]\n",
      "  [  34  549]]\n",
      "\n",
      " [[2914   41]\n",
      "  [  44  601]]\n",
      "\n",
      " [[3030    6]\n",
      "  [  19  545]]]\n",
      "\n",
      "Accuracy Score Metode Euclidean:\n",
      "0.9633333333333334\n",
      "\n"
     ],
     "output_type":"stream"
    }
   ],
   "metadata":{
    "datalore":{
     "node_id":"BrN7lEDWdcrKh6ne8MQtI6",
     "type":"CODE",
     "hide_input_from_viewers":false,
     "hide_output_from_viewers":false
    }
   }
  },
  {
   "cell_type":"markdown",
   "source":[
    "__Minkowski__<br>\n",
    "Model akan dibuat dengan menggunakan 4 buat p : 3, 5, 7, dan 9."
   ],
   "attachments":{
    
   },
   "metadata":{
    "datalore":{
     "node_id":"BJF09BTAsN1YaeMkxFdUUe",
     "type":"MD",
     "hide_input_from_viewers":false,
     "hide_output_from_viewers":false
    }
   }
  },
  {
   "cell_type":"code",
   "source":[
    "param_p = [3,5,7,9]\n",
    "for p in param_p:\n",
    "    classifier_manhattan = KNeighborsClassifier(n_neighbors = 5, metric ='minkowski', p = p) #'minkowski', 'manhattan'. Referensi: https:\/\/scikit-learn.org\/stable\/modules\/generated\/sklearn.neighbors.DistanceMetric.html#sklearn.neighbors.DistanceMetric\n",
    "    classifier_manhattan.fit(X_train, y_train)\n",
    "    y_pred_manhattan = classifier_manhattan.predict(X_test)\n",
    "\n",
    "    min_mlcm = multilabel_confusion_matrix(y_test, y_pred_manhattan)\n",
    "    print(\"p :\", p)\n",
    "    print(\"Confusion Matrix:\")\n",
    "    print(min_mlcm)\n",
    "    print()\n",
    "    print(\"Accuracy Score\")\n",
    "    print(accuracy_score(y_test, y_pred_manhattan))\n",
    "    print(\"\\n\")"
   ],
   "execution_count":31,
   "outputs":[
    {
     "name":"stdout",
     "text":[
      "p : 3\n",
      "Confusion Matrix:\n",
      "[[[2971    2]\n",
      "  [   0  627]]\n",
      "\n",
      " [[3031    0]\n",
      "  [   0  569]]\n",
      "\n",
      " [[2936   52]\n",
      "  [  37  575]]\n",
      "\n",
      " [[3005   12]\n",
      "  [  43  540]]\n",
      "\n",
      " [[2904   51]\n",
      "  [  49  596]]\n",
      "\n",
      " [[3028    8]\n",
      "  [  26  538]]]\n",
      "\n",
      "Accuracy Score\n",
      "0.9569444444444445\n",
      "\n",
      "\n",
      "p : 5\n",
      "Confusion Matrix:\n",
      "[[[2972    1]\n",
      "  [   0  627]]\n",
      "\n",
      " [[3029    2]\n",
      "  [   0  569]]\n",
      "\n",
      " [[2928   60]\n",
      "  [  38  574]]\n",
      "\n",
      " [[3002   15]\n",
      "  [  50  533]]\n",
      "\n",
      " [[2904   51]\n",
      "  [  55  590]]\n",
      "\n",
      " [[3027    9]\n",
      "  [  31  533]]]\n",
      "\n",
      "Accuracy Score\n",
      "0.9516666666666667\n",
      "\n",
      "\n",
      "p : 7\n",
      "Confusion Matrix:\n",
      "[[[2972    1]\n",
      "  [   0  627]]\n",
      "\n",
      " [[3029    2]\n",
      "  [   0  569]]\n",
      "\n",
      " [[2925   63]\n",
      "  [  36  576]]\n",
      "\n",
      " [[3002   15]\n",
      "  [  53  530]]\n",
      "\n",
      " [[2907   48]\n",
      "  [  59  586]]\n",
      "\n",
      " [[3026   10]\n",
      "  [  32  532]]]\n",
      "\n",
      "Accuracy Score\n",
      "0.95\n",
      "\n",
      "\n",
      "p : 9\n",
      "Confusion Matrix:\n",
      "[[[2971    2]\n",
      "  [   0  627]]\n",
      "\n",
      " [[3029    2]\n",
      "  [   0  569]]\n",
      "\n",
      " [[2924   64]\n",
      "  [  36  576]]\n",
      "\n",
      " [[3002   15]\n",
      "  [  53  530]]\n",
      "\n",
      " [[2905   50]\n",
      "  [  62  583]]\n",
      "\n",
      " [[3025   11]\n",
      "  [  32  532]]]\n",
      "\n",
      "Accuracy Score\n",
      "0.9491666666666667\n",
      "\n",
      "\n"
     ],
     "output_type":"stream"
    }
   ],
   "metadata":{
    "datalore":{
     "node_id":"cj8XP1nuECAUZ5cMDBHyz8",
     "type":"CODE",
     "hide_input_from_viewers":false,
     "hide_output_from_viewers":false
    }
   }
  },
  {
   "cell_type":"markdown",
   "source":[
    "Untuk mencari metode yang terbaik, akan dilakukan Grid Search dan plotting menggunakan looping.<br>"
   ],
   "attachments":{
    
   },
   "metadata":{
    "datalore":{
     "node_id":"crxtYi5hLF6ezCU0eUlGyN",
     "type":"MD",
     "hide_input_from_viewers":false,
     "hide_output_from_viewers":false
    }
   }
  },
  {
   "cell_type":"markdown",
   "source":[
    "__Grid Search:__"
   ],
   "attachments":{
    
   },
   "metadata":{
    "datalore":{
     "node_id":"gdYRLoSt5Jd5CbrPg5UQoR",
     "type":"MD",
     "hide_input_from_viewers":false,
     "hide_output_from_viewers":false
    }
   }
  },
  {
   "cell_type":"code",
   "source":[
    "from sklearn.model_selection import GridSearchCV\n",
    "\n",
    "# Pembuatan model\n",
    "kn = KNeighborsClassifier(metric='minkowski')\n",
    "params = {\n",
    "    'n_neighbors' : [i for i in range(3,10,1)],\n",
    "    'p': np.linspace(1,2,21)\n",
    "}\n",
    "grid_kn = GridSearchCV(estimator = kn,\n",
    "                        param_grid = params,\n",
    "                        scoring = 'accuracy', \n",
    "                        cv = 5, \n",
    "                        verbose = 1,\n",
    "                        n_jobs = -1)\n",
    "\n",
    "# Prediksi\n",
    "grid_kn.fit(X_train, y_train)\n",
    "y_pred_grid = grid_kn.predict(X_test)\n",
    "\n",
    "# Confusion matrix\n",
    "man_mlcm = multilabel_confusion_matrix(y_test, y_pred_grid)\n",
    "print(\"Confusion Matrix:\")\n",
    "print(man_mlcm)\n",
    "print()\n",
    "print(\"Accuracy Score:\")\n",
    "print(accuracy_score(y_test, y_pred_grid))\n",
    "print()\n",
    "print(\"Best Parameter:\")\n",
    "print(grid_kn.best_params_)\n",
    "print()"
   ],
   "execution_count":33,
   "outputs":[
    {
     "name":"stdout",
     "text":[
      "Fitting 5 folds for each of 147 candidates, totalling 735 fits\n",
      "Confusion Matrix:\n",
      "[[[2972    1]\n",
      "  [   0  627]]\n",
      "\n",
      " [[3031    0]\n",
      "  [   0  569]]\n",
      "\n",
      " [[2949   39]\n",
      "  [  17  595]]\n",
      "\n",
      " [[3012    5]\n",
      "  [  20  563]]\n",
      "\n",
      " [[2937   18]\n",
      "  [  31  614]]\n",
      "\n",
      " [[3032    4]\n",
      "  [  10  554]]]\n",
      "\n",
      "Accuracy Score:\n",
      "0.9783333333333334\n",
      "\n",
      "Best Parameter:\n",
      "{'n_neighbors': 3, 'p': 1.0}\n",
      "\n"
     ],
     "output_type":"stream"
    }
   ],
   "metadata":{
    "datalore":{
     "node_id":"qqffxeEntsoqBh8LZLbSo6",
     "type":"CODE",
     "hide_input_from_viewers":false,
     "hide_output_from_viewers":false
    }
   }
  },
  {
   "cell_type":"markdown",
   "source":[
    "__Looping:__<br>\n",
    "Looping dilakukan dengan mengganti nilai p.<br>\n",
    "Tiap iterasi, nilai p bertambah sebesar 0.1 dengan nilai awal 1 dan nilai akhir 10."
   ],
   "attachments":{
    
   },
   "metadata":{
    "datalore":{
     "node_id":"G3t0Tm5ddZxcI5rorqdPUP",
     "type":"MD",
     "hide_input_from_viewers":false,
     "hide_output_from_viewers":false
    }
   }
  },
  {
   "cell_type":"code",
   "source":[
    "list_acc_score = []\n",
    "\n",
    "for p in np.linspace(1,10,91): #numpy.linspace(start, stop, number,...)\n",
    "    knn =  KNeighborsClassifier(n_neighbors = 5, metric = 'minkowski', p = p)\n",
    "    knn.fit(X_train, y_train)\n",
    "    y_pred_knn = knn.predict(X_test)\n",
    "    list_acc_score.append(accuracy_score(y_test, y_pred_knn))\n",
    "\n",
    "    \n",
    "sns.lineplot(x=np.linspace(1,10,91),y=list_acc_score)\n",
    "plt.ylabel(\"Accuracy Score\")\n",
    "plt.xlabel(\"p\")\n",
    "    "
   ],
   "execution_count":34,
   "outputs":[
    {
     "data":{
      "text\/plain":[
       "Text(0.5, 0, 'p')"
      ]
     },
     "metadata":{
      
     },
     "output_type":"display_data"
    },
    {
     "data":{
      "image\/png":"[encoded data removed]"
     },
     "metadata":{
      "image\/png":{
       
      }
     },
     "output_type":"display_data"
    }
   ],
   "metadata":{
    "datalore":{
     "node_id":"PRxjkQdqUo3PDvydBJ1mos",
     "type":"CODE",
     "hide_input_from_viewers":false,
     "hide_output_from_viewers":false
    }
   }
  },
  {
   "cell_type":"code",
   "source":[
    "# Pembuatan model\n",
    "classifier_best_l = KNeighborsClassifier(n_neighbors = 5, metric = 'minkowski', p = 1.1)\n",
    "classifier_best_l.fit(X_train, y_train)\n",
    "\n",
    "# Prediksi\n",
    "y_pred_best_l = classifier_best.predict(X_test)\n",
    "\n",
    "# Confusion Matrix\n",
    "best_l_mlcm = multilabel_confusion_matrix(y_test, y_pred_best_l)\n",
    "print(\"Confusion Matrix Menurut Hasil Looping:\")\n",
    "print(best_l_mlcm)\n",
    "print()\n",
    "print(\"Accuracy Score Menurut Hasil Looping:\")\n",
    "print(accuracy_score(y_test, y_pred_best_l))\n",
    "print()"
   ],
   "execution_count":36,
   "outputs":[
    {
     "name":"stdout",
     "text":[
      "Confusion Matrix Menurut Hasil Looping:\n",
      "[[[2972    1]\n",
      "  [   0  627]]\n",
      "\n",
      " [[3031    0]\n",
      "  [   0  569]]\n",
      "\n",
      " [[2949   39]\n",
      "  [  17  595]]\n",
      "\n",
      " [[3012    5]\n",
      "  [  20  563]]\n",
      "\n",
      " [[2937   18]\n",
      "  [  31  614]]\n",
      "\n",
      " [[3032    4]\n",
      "  [  10  554]]]\n",
      "\n",
      "Accuracy Score Menurut Hasil Looping:\n",
      "0.9783333333333334\n",
      "\n"
     ],
     "output_type":"stream"
    }
   ],
   "metadata":{
    "datalore":{
     "node_id":"VyqmAIr85JbZGAIi2d39zW",
     "type":"CODE",
     "hide_input_from_viewers":false,
     "hide_output_from_viewers":false
    }
   }
  },
  {
   "cell_type":"markdown",
   "source":[
    "__Kesimpulan__<br>\n",
    "Terlihat matrix yang terbaik mendekati matrix Manhattan (Minkowski p = 1) yakni Minkowski dengan nilai p = 1.1<br>\n",
    "Matrix tersebut memiliki nilai accuracy score 0.9783 yang merupakan nilai tertinggi pada grafik plotting. Nilai tersebut juga sama dengan nilai yang ditemukan dengan menggunakan hasil Grid Search dengan mengganti nilai n menjadi 3 dan nilai p menjadi 1.<br>\n",
    "Terlihat parameter terbaik untuk KNN adalah:<br>\n",
    "- n_neighbour = 3\n",
    "- p = 1\n",
    "<br>\n",
    "\n",
    "atau\n",
    "- n_neighbour = 5\n",
    "- p = 1.1 "
   ],
   "attachments":{
    
   },
   "metadata":{
    "datalore":{
     "node_id":"I9oWk86a2CoN8juid3chNG",
     "type":"MD",
     "hide_input_from_viewers":false,
     "hide_output_from_viewers":false
    }
   }
  },
  {
   "cell_type":"markdown",
   "source":[
    "## SVM"
   ],
   "attachments":{
    
   },
   "metadata":{
    "datalore":{
     "node_id":"MSKW2T7r6dkeZgOag0lAag",
     "type":"MD",
     "hide_input_from_viewers":false,
     "hide_output_from_viewers":false
    }
   }
  },
  {
   "cell_type":"code",
   "source":[
    "from sklearn.model_selection import train_test_split\n",
    "from sklearn.svm import SVR,LinearSVR\n",
    "import numpy as np\n",
    "from sklearn.metrics import mean_absolute_error,mean_squared_error"
   ],
   "execution_count":20,
   "outputs":[
    
   ],
   "metadata":{
    "datalore":{
     "node_id":"g3sE3Nfkk02F77zEuYBT8N",
     "type":"CODE",
     "hide_input_from_viewers":false,
     "hide_output_from_viewers":false
    }
   }
  },
  {
   "cell_type":"code",
   "source":[
    "X_train, X_test, y_train, y_test = train_test_split(x, y, test_size=0.3, random_state=101)\n",
    "Y_train = np.where(y_train)[1]\n",
    "Y_test = np.where(y_test)[1]\n",
    "print(y_train)\n",
    "\n",
    "#Membagi data menjadi split dan test"
   ],
   "execution_count":null,
   "outputs":[
    
   ],
   "metadata":{
    "datalore":{
     "node_id":"Anukg3YVTw2lQ2hBanOyay",
     "type":"CODE",
     "hide_input_from_viewers":false,
     "hide_output_from_viewers":false
    }
   }
  },
  {
   "cell_type":"code",
   "source":[
    "base_model = SVR()\n",
    "base_model.fit(X_train,Y_train)\n",
    "base_preds = base_model.predict(X_test)\n",
    "mean_absolute_error(Y_test,base_preds)\n",
    "np.sqrt(mean_squared_error(Y_test,base_preds))\n",
    "y_test.mean()\n",
    "\n",
    "#Membuat base momdel dan beberapa perhitungan"
   ],
   "execution_count":null,
   "outputs":[
    
   ],
   "metadata":{
    "datalore":{
     "node_id":"Whoxa2u1qdKJt2NYw4yxVg",
     "type":"CODE",
     "hide_input_from_viewers":false,
     "hide_output_from_viewers":false
    }
   }
  },
  {
   "cell_type":"code",
   "source":[
    "param_grid = {'C':[0.01,0.1,1],\n",
    "             'kernel':['linear','rbf','poly'],\n",
    "              'gamma':['auto'],\n",
    "              'degree':[2,3,4],\n",
    "              'epsilon':[0.01,0.1,1,2]}\n",
    "from sklearn.model_selection import GridSearchCV\n",
    "svr = SVR()\n",
    "grid = GridSearchCV(svr,param_grid=param_grid)\n",
    "grid.fit(X_train,Y_train)"
   ],
   "execution_count":null,
   "outputs":[
    
   ],
   "metadata":{
    "datalore":{
     "node_id":"wCHkArOm3FNr9MLwhDODeC",
     "type":"CODE",
     "hide_input_from_viewers":false,
     "hide_output_from_viewers":false
    }
   }
  },
  {
   "cell_type":"code",
   "source":[
    "GridSearchCV(estimator=SVR(),\n",
    "             param_grid={'C': [0.01, 0.1, 1], 'degree': [2, 3, 4],\n",
    "                         'epsilon': [0.01, 0.1, 1, 2], 'gamma': ['auto'],\n",
    "                         'kernel': ['linear', 'rbf', 'poly']})"
   ],
   "execution_count":null,
   "outputs":[
    
   ],
   "metadata":{
    "datalore":{
     "node_id":"Y8rqh4oV31Uxy9kcP4tkjw",
     "type":"CODE",
     "hide_input_from_viewers":false,
     "hide_output_from_viewers":false
    }
   }
  },
  {
   "cell_type":"code",
   "source":[
    "print(grid.best_params_)"
   ],
   "execution_count":null,
   "outputs":[
    
   ],
   "metadata":{
    "datalore":{
     "node_id":"EdlvA5uFKL45SdFNS6AvUq",
     "type":"CODE",
     "hide_input_from_viewers":false,
     "hide_output_from_viewers":false
    }
   }
  },
  {
   "cell_type":"code",
   "source":[
    "{'C': 1, 'degree': 2, 'epsilon': 0.1, 'gamma': 'auto', 'kernel': 'rbf'}"
   ],
   "execution_count":null,
   "outputs":[
    
   ],
   "metadata":{
    "datalore":{
     "node_id":"c77f6LZzbG01DE8RHeikvY",
     "type":"CODE",
     "hide_input_from_viewers":false,
     "hide_output_from_viewers":false
    }
   }
  },
  {
   "cell_type":"code",
   "source":[
    "grid_preds = grid.predict(X_test)\n",
    "print(\"MAE: \", mean_absolute_error(Y_test,grid_preds))\n",
    "print(\"MSE\", np.sqrt(mean_squared_error(Y_test,grid_preds)))"
   ],
   "execution_count":null,
   "outputs":[
    
   ],
   "metadata":{
    "datalore":{
     "node_id":"zpAXxuTWate2ebqoSPWoa8",
     "type":"CODE",
     "hide_input_from_viewers":false,
     "hide_output_from_viewers":false
    }
   }
  },
  {
   "cell_type":"code",
   "source":[
    "MAE: 0.23523412757763323\n",
    "MSE: 0.42623834438997393"
   ],
   "execution_count":null,
   "outputs":[
    
   ],
   "metadata":{
    "datalore":{
     "node_id":"y8FShLxQyJoIbRGv4dJUTh",
     "type":"CODE",
     "hide_input_from_viewers":false,
     "hide_output_from_viewers":false
    }
   }
  },
  {
   "cell_type":"markdown",
   "source":[
    "Sebuah supervised learning dengan Klasifikasi SVM serta Program Regresi kali ini bekerja pada data yang linear, regresi ini digunakan untuk menggabung banyak instance, serta meminimalisasi margin violation. Hyper-parameter yang baaik digunakan oleh Gridsearch SVM adalah: C = 1, Degree = 2, Epsilon = 0.1, Gamma=auto, Kernel=rbf. "
   ],
   "attachments":{
    
   },
   "metadata":{
    "datalore":{
     "node_id":"1Ut85W4AL42HcaxxKGyRlq",
     "type":"MD",
     "hide_input_from_viewers":false,
     "hide_output_from_viewers":false
    }
   }
  },
  {
   "cell_type":"markdown",
   "source":[
    "<h2>Data Preprocessing (Khusus Algoritma Time Series)<\/h2>\n",
    "Data time series memiliki satu ciri khusus dibandingkan dengan jenis data lain yaitu kontinuitas. Sebuah data time series baru akan bermakna\/memiliki informasi yang jelas ketika diurutkan berdasarkan waktu. Maka itu, untuk mendapatkan klasifikasi yang lebih akurat, dibutuhkan algoritma klasifikasi yang menerima input berupa satu seri data, bukan satu titik data saja. Tidak hanya itu, input seri data juga merupakan data multivariabel (12 fitur). \n",
    "<br>\n",
    "<br>\n",
    "Untuk klasifikasi data khusus time series, kami menggunakan library `pyts`. Dalam library ini, terdapat class untuk klasifikasi data time series multivariabel yaitu `pyts.multivariate.classification.MultivariateClassifier`. Bentuk data yang menjadi input (x) bagi algoritma-algoritma classifier time series adalah matriks 3-D dengan dimensi sampel, fitur, dan titik-titik data.\n",
    "<br> \n",
    "<br>\n",
    "Berikut adalah ilustrasi format data yang diterima:\n",
    "\n",
    "<p align=\"center\"><img src=\"timeseries_data_format.jpg\" width=\"500\"><\/p><br>\n",
    "\n",
    "Tentu saja, tetap ada bagian y dengan panjang sama dengan jumlah sampel data yang berupa matriks 1 dimensi yang <b>label-encoded<\/b>.<br>\n",
    "Untuk setiap model time series, digunakan <b>train sebesar 0.75<\/b> dan <b>test sebesar 0.25.<\/b>\n",
    "<br>\n",
    "\n",
    "<h4>Alternatif GridSearchCV<\/h4>\n",
    "Pada kasus data time series, kami tidak menggunakan model dari sklearn. Selain itu, model dibentuk sebagai subclass dari kelas `MultivariateClassifier`. Maka itu, kami tidak bisa menggunakan modul `GridSearchCV` dari `sklearn`. Maka itu, kami akan mengimplementasikan kode yang fungsinya sama dengan `GridSearchCV` yaitu dengan mencoba setiap kombinasi hyperparameter menggunakan nested loop.\n",
    "\n",
    "<br>\n",
    "Dua algoritma klasifikasi time series yang digunakan dalam proyek ini adalah BOSSVS dan TimeSeriesForest.<br><br>\n",
    "\n",
    "<h4>Kode untuk membentuk format data yang sesuai dengan pyts dan train test split:<\/h4>"
   ],
   "attachments":{
    
   },
   "metadata":{
    "datalore":{
     "node_id":"kTvoQdhUDTmOS480sK2VZG",
     "type":"MD",
     "hide_input_from_viewers":false,
     "hide_output_from_viewers":false
    }
   }
  },
  {
   "cell_type":"code",
   "source":[
    "# Libraries & Modules yang digunakan:\n",
    "import matplotlib.pyplot as plt\n",
    "import pandas as pd\n",
    "import numpy as np\n",
    "from sklearn.utils import shuffle\n",
    "from pyts.multivariate.classification import MultivariateClassifier\n",
    "from pyts.classification import BOSSVS, KNeighborsClassifier, TimeSeriesForest\n",
    "from sklearn.metrics import classification_report, confusion_matrix"
   ],
   "execution_count":23,
   "outputs":[
    
   ],
   "metadata":{
    "datalore":{
     "node_id":"sJ96GehYoujoQl4oY3icMr",
     "type":"CODE",
     "hide_input_from_viewers":false,
     "hide_output_from_viewers":false
    }
   }
  },
  {
   "cell_type":"code",
   "source":[
    "bigmat = []\n",
    "labels = []\n",
    "def filedir(folder, sample):\n",
    "    return f\"data\/long_trials\/{folder}\/sub_{sample}.csv\"\n",
    "\n",
    "list_of_dir = [\"standing\", \"sitting\", \"walking\", \"jogging\", \"upstairs\", \"downstairs\"]\n",
    "\n",
    "for label in list_of_dir:\n",
    "    for sample_n in range(1, 25):\n",
    "        sample_list = []\n",
    "        file_loc = filedir(label, sample_n)\n",
    "        current_file = pd.read_csv(file_loc).iloc[:800, 1:]\n",
    "        columns = current_file.columns\n",
    "        for col in columns:\n",
    "            sample_list.append(current_file[col])\n",
    "        labels.append(label)\n",
    "        bigmat.append(sample_list)\n",
    "bigmat = np.array(bigmat)\n",
    "labels = np.array(labels)\n",
    "\n",
    "# Random State Manual\n",
    "# Data bigmat (x) dan labels (y) harus memiliki posisi setelah shuffle yang sama.\n",
    "bigmat_shuffle, labels_shuffle = shuffle(bigmat, labels)\n",
    "\n",
    "# Train Test Split Manual\n",
    "train = 0.75\n",
    "test = 1 - train\n",
    "train_size = int(len(bigmat_shuffle) * train)\n",
    "x_train = bigmat_shuffle[:train_size]\n",
    "y_train = labels_shuffle[:train_size]\n",
    "x_test = bigmat_shuffle[train_size:]\n",
    "y_test = labels_shuffle[train_size:]"
   ],
   "execution_count":12,
   "outputs":[
    
   ],
   "metadata":{
    "datalore":{
     "node_id":"MHiSGzkggvVopsYPojdhD1",
     "type":"CODE",
     "hide_input_from_viewers":false,
     "hide_output_from_viewers":false
    }
   }
  },
  {
   "cell_type":"markdown",
   "source":[
    "### Time Series BOSSVS (Bag of SFA Symbols in Vector Space)\n",
    "1. Time series diubah menjadi bentuk histogram menggunakan algoritma Bag-of-SFA Symbols (BOSS)\n",
    "2. Untuk tiap kelas, histogram yang ada dijumlahkan dan dihitung vektor TF-IDF \n",
    "3. Prediksi kelas untuk sampel baru adalah kelas dengan cosine similarity paling tinggi antara TF-vector sampel baru dengan TF-IDF vektor tiap kelas.\n",
    "<br>\n",
    "#### Hyperparameters:\n",
    "- word size\n",
    "- n bins\n",
    "<br>\n",
    "#### Model Tuning: \n",
    "- word size: [2, 4, 8]\n",
    "- n bins: [2, 4, 8]<br>\n",
    "Dilakukan 9 kali pembuatan model dengan hyperparameter berbeda. <br>"
   ],
   "attachments":{
    
   },
   "metadata":{
    "datalore":{
     "node_id":"OQ1xNb6J9a4qMaxNkXcuJr",
     "type":"MD",
     "hide_input_from_viewers":false,
     "hide_output_from_viewers":false
    }
   }
  },
  {
   "cell_type":"code",
   "source":[
    "word_size = [2, 4, 8]\n",
    "n_bins = [2, 4, 8]\n",
    "word_sizes_conf_mat = []\n",
    "boss_clf_report = []\n",
    "boss_conf_mat = []\n",
    "for word in word_size:\n",
    "    for n_bin in n_bins:\n",
    "        clf_boss = MultivariateClassifier(BOSSVS(word_size=word, n_bins=n_bin))\n",
    "        clf_boss.fit(x_train, y_train)\n",
    "        pred = clf_boss.predict(x_test)\n",
    "        clf_report = classification_report(y_test, pred)\n",
    "        conf_mat = confusion_matrix(y_test, pred)\n",
    "        boss_conf_mat.append(conf_mat)\n",
    "        boss_clf_report.append(clf_report)"
   ],
   "execution_count":null,
   "outputs":[
    
   ],
   "metadata":{
    "datalore":{
     "node_id":"JHzeAp6NyemcIPPTESuMc4",
     "type":"CODE",
     "hide_input_from_viewers":false,
     "hide_output_from_viewers":false
    }
   }
  },
  {
   "cell_type":"code",
   "source":[
    "count = 0\n",
    "for word in word_size:\n",
    "    for n_bin in n_bins:\n",
    "        print(f\"Word Size: {word}, N-bins: {n_bin}\")\n",
    "        print(\"  Confusion Matrix\")\n",
    "        print(boss_conf_mat[count])\n",
    "        print(\"  Classification Report\")\n",
    "        print(boss_clf_report[count])\n",
    "        count+=1\n",
    "        print(\"==========================================\")"
   ],
   "execution_count":null,
   "outputs":[
    
   ],
   "metadata":{
    "datalore":{
     "node_id":"pxUMnBCCFuboT7PMCz6IWH",
     "type":"CODE",
     "hide_input_from_viewers":false,
     "hide_output_from_viewers":false
    }
   }
  },
  {
   "cell_type":"markdown",
   "source":[
    "<h4>Hasil Perbandingan Hyperparameter BOSSVS<\/h4>\n",
    "(Hanya ditampilkan nilai terbaik)"
   ],
   "attachments":{
    
   },
   "metadata":{
    "datalore":{
     "node_id":"Tard2yj9LVDFPWd5NDs5yM",
     "type":"MD",
     "hide_input_from_viewers":false,
     "hide_output_from_viewers":false
    }
   }
  },
  {
   "cell_type":"code",
   "source":[
    "==========================================\n",
    "Word Size: 4, N-bins: 8\n",
    "  Confusion Matrix\n",
    "[[4 1 1 0 0 1]\n",
    " [0 8 0 0 0 0]\n",
    " [0 0 5 0 0 0]\n",
    " [0 0 1 4 0 0]\n",
    " [1 1 0 0 3 1]\n",
    " [0 1 0 0 0 4]]\n",
    "  Classification Report\n",
    "              precision    recall  f1-score   support\n",
    "\n",
    "  downstairs       0.80      0.57      0.67         7\n",
    "     jogging       0.73      1.00      0.84         8\n",
    "     sitting       0.71      1.00      0.83         5\n",
    "    standing       1.00      0.80      0.89         5\n",
    "    upstairs       1.00      0.50      0.67         6\n",
    "     walking       0.67      0.80      0.73         5\n",
    "\n",
    "    accuracy                           0.78        36\n",
    "   macro avg       0.82      0.78      0.77        36\n",
    "weighted avg       0.81      0.78      0.77        36\n",
    "\n",
    "=========================================="
   ],
   "execution_count":null,
   "outputs":[
    
   ],
   "metadata":{
    "datalore":{
     "node_id":"kN2yzllfEfM4f24XrzBt0K",
     "type":"CODE",
     "hide_input_from_viewers":false,
     "hide_output_from_viewers":false
    }
   }
  },
  {
   "cell_type":"markdown",
   "source":[
    "<h4>Kesimpulan Time Series BOSSVS<\/h4>\n",
    "\n",
    "Berdasarkan kombinasi hyperparameter word size dan n bins yang dilakukan, ditemukan hasil paling baik ada pada:<br>\n",
    "- word size = 4 <br>\n",
    "- n bins = 8 <br>\n",
    "\n",
    "<b>Dengan hasil:<\/b><br>\n",
    "- Accuracy: 78%<br>\n",
    "- Precision: 82%<br>\n",
    "- Recall: 78%<br>\n",
    "- F1-Score:77%<br>\n",
    "\n",
    "Karena dimensionalitas tinggi dan ketergantungan pada seri data (tidak bisa satu titik data saja), kami tidak bisa memberikan visualisasi hasil klasifikasi BOSSVS. "
   ],
   "attachments":{
    
   },
   "metadata":{
    "datalore":{
     "node_id":"rY8IPLmjcwI8Equz7dTyBR",
     "type":"MD",
     "hide_input_from_viewers":false,
     "hide_output_from_viewers":false
    }
   }
  },
  {
   "cell_type":"markdown",
   "source":[
    "<h3>Time Series Random Forest<\/h3>\n",
    "<h4>Hyperparameters<\/h4>\n",
    "- n_estimators: jumlah decision tree dalam random forest<br>\n",
    "- n_windows: jumlah window (subset dari time series)<br>\n",
    "\n",
    "<h4>Hyperparameter Tuning<\/h4>\n",
    "- n_estimators: [10, 50, 100]<br>\n",
    "- n_windows: [1, 2, 4]<br>\n",
    "Terdapat 9 kombinasi hyperparameter."
   ],
   "attachments":{
    
   },
   "metadata":{
    "datalore":{
     "node_id":"oeM7aWAuDNpfpIV2oovEz2",
     "type":"MD",
     "hide_input_from_viewers":false,
     "hide_output_from_viewers":false
    }
   }
  },
  {
   "cell_type":"code",
   "source":[
    "for rf_est in [10, 50, 100]:\n",
    "    for n_win in [1, 2, 4]:\n",
    "        clf_tf = MultivariateClassifier(TimeSeriesForest(n_estimators=rf_est, n_windows=n_win))\n",
    "        clf_tf.fit(x_train, y_train)\n",
    "        pred = clf_tf.predict(x_test)\n",
    "        clf_report = classification_report(y_test, pred)\n",
    "        conf_mat = confusion_matrix(y_test, pred)\n",
    "        print(f\"n_estimators: {rf_est}, n_windows: {n_win}\")\n",
    "        print(conf_mat)\n",
    "        print(clf_report)\n",
    "        print(\"===================================\")"
   ],
   "execution_count":null,
   "outputs":[
    
   ],
   "metadata":{
    "datalore":{
     "node_id":"rM8GDtbr0xdK5Acuhr7oUd",
     "type":"CODE",
     "hide_input_from_viewers":false,
     "hide_output_from_viewers":false
    }
   }
  },
  {
   "cell_type":"markdown",
   "source":[
    "<h4>Hasil Perbandingan Hyperparameter TimeSeriesForest<\/h4>\n",
    "(Hanya ditampilkan nilai terbaik)"
   ],
   "attachments":{
    
   },
   "metadata":{
    "datalore":{
     "node_id":"mImpjGf5bjoIwwnBWvAM8Z",
     "type":"MD",
     "hide_input_from_viewers":false,
     "hide_output_from_viewers":false
    }
   }
  },
  {
   "cell_type":"code",
   "source":[
    "===================================\n",
    "n_estimators: 50, n_windows: 4\n",
    "[[6 0 0 1 0 0]\n",
    " [0 7 0 0 0 1]\n",
    " [0 0 4 1 0 0]\n",
    " [0 0 1 4 0 0]\n",
    " [2 0 0 0 3 1]\n",
    " [0 0 0 0 0 5]]\n",
    "              precision    recall  f1-score   support\n",
    "\n",
    "  downstairs       0.75      0.86      0.80         7\n",
    "     jogging       1.00      0.88      0.93         8\n",
    "     sitting       0.80      0.80      0.80         5\n",
    "    standing       0.67      0.80      0.73         5\n",
    "    upstairs       1.00      0.50      0.67         6\n",
    "     walking       0.71      1.00      0.83         5\n",
    "\n",
    "    accuracy                           0.81        36\n",
    "   macro avg       0.82      0.81      0.79        36\n",
    "weighted avg       0.84      0.81      0.80        36\n",
    "\n",
    "==================================="
   ],
   "execution_count":null,
   "outputs":[
    
   ],
   "metadata":{
    "datalore":{
     "node_id":"epO7sWIdjj8pQFMbgl9FV5",
     "type":"CODE",
     "hide_input_from_viewers":false,
     "hide_output_from_viewers":false
    }
   }
  },
  {
   "cell_type":"markdown",
   "source":[
    "<h4>Kesimpulan Time Series Random Forest<\/h4>\n",
    "Berdasarkan penentuan hyperparameter n_estimators dan n_windows, ditemukan bahwa nilai terbaik terjadi ketika:<br>\n",
    "- n_estimators = 50<br>\n",
    "- n_windows = 4<br>\n",
    "\n",
    "<b>Dengan hasil:<\/b><br>\n",
    "- Accuracy: 81%<br>\n",
    "- Precision: 82%<br>\n",
    "- Recall: 81%<br>\n",
    "- F1-Score: 79%<br>\n",
    "\n",
    "Karena dimensionalitas tinggi dan ketergantungan pada seri data (tidak bisa satu titik data saja), kami tidak bisa memberikan visualisasi hasil klasifikasi Time Series Random Forest. "
   ],
   "attachments":{
    
   },
   "metadata":{
    "datalore":{
     "node_id":"g8LfPOoNfmyjvn5J37VP63",
     "type":"MD",
     "hide_input_from_viewers":false,
     "hide_output_from_viewers":false
    }
   }
  }
 ],
 "metadata":{
  "kernelspec":{
   "display_name":"Python",
   "language":"python",
   "name":"python"
  },
  "datalore":{
   "version":1,
   "computation_mode":"JUPYTER",
   "package_manager":"pip",
   "base_environment":"default",
   "packages":[
    
   ]
  }
 },
 "nbformat":4,
 "nbformat_minor":4
}